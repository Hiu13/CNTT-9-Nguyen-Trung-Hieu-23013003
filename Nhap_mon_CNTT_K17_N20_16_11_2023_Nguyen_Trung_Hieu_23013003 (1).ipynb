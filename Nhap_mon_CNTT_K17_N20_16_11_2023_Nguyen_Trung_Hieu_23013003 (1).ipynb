{
  "nbformat": 4,
  "nbformat_minor": 0,
  "metadata": {
    "colab": {
      "provenance": []
    },
    "kernelspec": {
      "name": "python3",
      "display_name": "Python 3"
    },
    "language_info": {
      "name": "python"
    }
  },
  "cells": [
    {
      "cell_type": "code",
      "execution_count": null,
      "metadata": {
        "colab": {
          "base_uri": "https://localhost:8080/"
        },
        "id": "v-7NexaxH9-A",
        "outputId": "a52726cb-198a-457b-ec2b-6427dd263112"
      },
      "outputs": [
        {
          "output_type": "stream",
          "name": "stdout",
          "text": [
            "10\n",
            "NO\n"
          ]
        }
      ],
      "source": [
        "n=int(input())\n",
        "check = False\n",
        "\n",
        "for i in range(1, n + 1 ):\n",
        "   if (i**2 == n):\n",
        "      check = True\n",
        "      break\n",
        "\n",
        "if (check == True):\n",
        "    print(\"YES\")\n",
        "else:\n",
        "    print(\"NO\")"
      ]
    },
    {
      "cell_type": "code",
      "source": [
        "a=float(input())\n",
        "b=float(input())\n",
        "if (a==0):\n",
        "  print(\"vo nghiem\")\n",
        "else:\n",
        "  x=(-b/a)\n",
        "  print('%0.3f'%x)\n"
      ],
      "metadata": {
        "colab": {
          "base_uri": "https://localhost:8080/"
        },
        "id": "TOy5a6h5K0fO",
        "outputId": "b152a4c1-6b3e-4898-96ff-ecd36dad5a79"
      },
      "execution_count": null,
      "outputs": [
        {
          "output_type": "stream",
          "name": "stdout",
          "text": [
            "0\n",
            "938.759\n",
            "vo nghiem\n"
          ]
        }
      ]
    },
    {
      "cell_type": "code",
      "source": [
        "a,b,c=map(int,input().split())\n",
        "numlist = [a, b, c]\n",
        "print(min(numlist), max(numlist))\n"
      ],
      "metadata": {
        "colab": {
          "base_uri": "https://localhost:8080/"
        },
        "id": "Ykg__1UuR7v3",
        "outputId": "94e2e5f6-dc6f-4622-b77f-93afcfee1c2a"
      },
      "execution_count": null,
      "outputs": [
        {
          "output_type": "stream",
          "name": "stdout",
          "text": [
            "1 2 3 \n",
            "1 3\n"
          ]
        }
      ]
    },
    {
      "cell_type": "code",
      "source": [
        "a,b,c=map(int,input().split())\n",
        "if a+b>c and a+c>b and c+b>a:\n",
        "  print(\"YES\")\n",
        "else:\n",
        "  print(\"NO\")"
      ],
      "metadata": {
        "colab": {
          "base_uri": "https://localhost:8080/"
        },
        "id": "MquE-ZJ3VJr2",
        "outputId": "24b19fee-336e-4b1a-d5c1-2714acef85cb"
      },
      "execution_count": null,
      "outputs": [
        {
          "output_type": "stream",
          "name": "stdout",
          "text": [
            "1 2 3\n",
            "NO\n"
          ]
        }
      ]
    },
    {
      "cell_type": "code",
      "source": [
        "x=int(input())\n",
        "y=int(input())\n",
        "if :\n",
        "  print(\"YES\")\n",
        "else:\n",
        "  print(\"NO\")"
      ],
      "metadata": {
        "id": "hTGqFHP5acPm"
      },
      "execution_count": null,
      "outputs": []
    },
    {
      "cell_type": "code",
      "source": [
        "import math\n",
        "sqrt=math.sqrt\n",
        "a,b,c=map(int,input().split())\n",
        "if sqrt(a**2+b**2)==c or sqrt(a**2+c**2)==b or sqrt(b**2+c**2)==a:\n",
        "  print(\"YES\")\n",
        "else:\n",
        "  print(\"NO\")"
      ],
      "metadata": {
        "colab": {
          "base_uri": "https://localhost:8080/"
        },
        "id": "WfO9QuMBXP0F",
        "outputId": "87b10684-f178-4c15-d7f7-c5bb8e2a5833"
      },
      "execution_count": null,
      "outputs": [
        {
          "output_type": "stream",
          "name": "stdout",
          "text": [
            "3 4 5 \n",
            "YES\n"
          ]
        }
      ]
    },
    {
      "cell_type": "code",
      "source": [
        "x=int(input())\n",
        "import math\n",
        "if x < 0:\n",
        "  print('khong')\n",
        "elif x < 2:\n",
        "  print('khong'.format(x))\n",
        "else:\n",
        "  for i in range(2,int(math.sqrt(x))+1):\n",
        "    if x%i == 0:\n",
        "      print('khong'.format(x))\n",
        "      break\n",
        "  else:\n",
        "      print('co'.format(x))"
      ],
      "metadata": {
        "colab": {
          "base_uri": "https://localhost:8080/"
        },
        "id": "_aFFtaMZa4Ad",
        "outputId": "471f5678-e680-4c83-c5c7-099ac2fc471a"
      },
      "execution_count": null,
      "outputs": [
        {
          "output_type": "stream",
          "name": "stdout",
          "text": [
            "7\n",
            "co\n"
          ]
        }
      ]
    },
    {
      "cell_type": "code",
      "source": [
        "a=float(input())\n",
        "a=list(map(float,input().split()))\n",
        "S=0\n",
        "spt=0\n",
        "x=0\n",
        "for i in a:\n",
        "  if i > x or i==x:\n",
        "    S=S+i\n",
        "    spt=spt+1\n",
        "    m=S/spt\n",
        "  print('%0.3f'%m)"
      ],
      "metadata": {
        "colab": {
          "base_uri": "https://localhost:8080/"
        },
        "id": "FF9P5anMtmGk",
        "outputId": "93b7fd5f-ab0c-491e-a737-697c5a4575ad"
      },
      "execution_count": null,
      "outputs": [
        {
          "output_type": "stream",
          "name": "stdout",
          "text": [
            "5\n",
            "1 0 4 -2 3\n",
            "1.000\n",
            "0.500\n",
            "1.667\n",
            "1.667\n",
            "2.000\n"
          ]
        }
      ]
    },
    {
      "cell_type": "code",
      "source": [
        "a=int(input())\n",
        "a=list(map(int,input().split()))\n",
        "type(a)\n",
        "print(max(a))"
      ],
      "metadata": {
        "colab": {
          "base_uri": "https://localhost:8080/"
        },
        "id": "YUUdMUjl1GrH",
        "outputId": "86fa8a30-4461-4d15-a23a-9b3195838e6b"
      },
      "execution_count": null,
      "outputs": [
        {
          "output_type": "stream",
          "name": "stdout",
          "text": [
            "5\n",
            "1 4 0 2 -3\n",
            "4\n"
          ]
        }
      ]
    },
    {
      "cell_type": "code",
      "source": [
        "a=float(input())\n",
        "a=list(map(float,input().split()))\n",
        "type(a)\n",
        "x=0\n",
        "for i in range()\n",
        "  if i > x or i==x:\n",
        "    print('',x)\n",
        "  else:\n",
        "    print('Day so khong co phan tu duong')"
      ],
      "metadata": {
        "colab": {
          "base_uri": "https://localhost:8080/"
        },
        "id": "aR_RF6W06v1W",
        "outputId": "6d411c86-af27-4e10-fbe4-879dd9e17066"
      },
      "execution_count": null,
      "outputs": [
        {
          "output_type": "stream",
          "name": "stdout",
          "text": [
            "5\n",
            "1 -5 3 -2 1\n",
            " 0\n",
            "Day so khong co phan tu duong\n",
            " 0\n",
            "Day so khong co phan tu duong\n",
            " 0\n"
          ]
        }
      ]
    },
    {
      "cell_type": "code",
      "source": [
        "n=int(input())\n",
        "S=0\n",
        "for i in range(1,n+1):\n",
        "  S=S+i\n",
        "print('',S)"
      ],
      "metadata": {
        "colab": {
          "base_uri": "https://localhost:8080/"
        },
        "id": "9a3iklAsrrCI",
        "outputId": "ee14f5f9-db16-493a-ff2e-b8aabc3f5c67"
      },
      "execution_count": null,
      "outputs": [
        {
          "output_type": "stream",
          "name": "stdout",
          "text": [
            "5\n",
            " 15\n"
          ]
        }
      ]
    },
    {
      "cell_type": "code",
      "source": [
        "a=float(input())\n",
        "a=list(map(float,input().split()))\n",
        "\n"
      ],
      "metadata": {
        "id": "1_W7opDCw1PG"
      },
      "execution_count": null,
      "outputs": []
    }
  ]
}